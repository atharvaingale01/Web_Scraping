{
 "cells": [
  {
   "cell_type": "code",
   "execution_count": 58,
   "id": "42a66025",
   "metadata": {},
   "outputs": [],
   "source": [
    "import pandas as pd\n",
    "import numpy as np\n",
    "import requests\n",
    "from bs4 import BeautifulSoup\n",
    "from re import sub"
   ]
  },
  {
   "cell_type": "code",
   "execution_count": 3,
   "id": "ad1a2e3e",
   "metadata": {},
   "outputs": [],
   "source": [
    "url = \"https://www.imdb.com/search/title/?count=100&groups=top_1000&sort=user_rating\"\n",
    "response = requests.get(url)\n",
    "soup = BeautifulSoup(response.content,\"html.parser\")\n",
    "movie_data = soup.find_all(\"div\",attrs={'class' : 'lister-item mode-advanced'})"
   ]
  },
  {
   "cell_type": "markdown",
   "id": "ef424566",
   "metadata": {},
   "source": [
    "# Title"
   ]
  },
  {
   "cell_type": "code",
   "execution_count": 5,
   "id": "be1d4687",
   "metadata": {},
   "outputs": [
    {
     "data": {
      "text/plain": [
       "'The Shawshank Redemption'"
      ]
     },
     "execution_count": 5,
     "metadata": {},
     "output_type": "execute_result"
    }
   ],
   "source": [
    "title = movie_data[0].h3.a.text\n",
    "title"
   ]
  },
  {
   "cell_type": "markdown",
   "id": "4a9bf561",
   "metadata": {},
   "source": [
    "# Release Year"
   ]
  },
  {
   "cell_type": "code",
   "execution_count": 6,
   "id": "118ead6c",
   "metadata": {},
   "outputs": [
    {
     "data": {
      "text/plain": [
       "'1994'"
      ]
     },
     "execution_count": 6,
     "metadata": {},
     "output_type": "execute_result"
    }
   ],
   "source": [
    "release_year = movie_data[0].h3.find('span',class_ = 'lister-item-year text-muted unbold').text\n",
    "release_year = sub(\"[^0-9]\",\"\",release_year)\n",
    "release_year"
   ]
  },
  {
   "cell_type": "markdown",
   "id": "628babae",
   "metadata": {},
   "source": [
    "# Runtime"
   ]
  },
  {
   "cell_type": "code",
   "execution_count": 7,
   "id": "5919d755",
   "metadata": {},
   "outputs": [
    {
     "data": {
      "text/plain": [
       "'178'"
      ]
     },
     "execution_count": 7,
     "metadata": {},
     "output_type": "execute_result"
    }
   ],
   "source": [
    "runtime = movie_data[10].p.find('span',class_ = 'runtime').text\n",
    "runtime = sub(\"[^0-9]\",\"\",runtime)\n",
    "runtime"
   ]
  },
  {
   "cell_type": "markdown",
   "id": "a142ddb7",
   "metadata": {},
   "source": [
    "# Genre"
   ]
  },
  {
   "cell_type": "code",
   "execution_count": 8,
   "id": "9049e5e7",
   "metadata": {},
   "outputs": [
    {
     "data": {
      "text/plain": [
       "'Action Crime Drama'"
      ]
     },
     "execution_count": 8,
     "metadata": {},
     "output_type": "execute_result"
    }
   ],
   "source": [
    "genre = movie_data[2].p.find('span',class_ = 'genre').text\n",
    "genre = sub('[^A-Za-z0-9 ]',\"\",genre).strip()\n",
    "genre"
   ]
  },
  {
   "cell_type": "markdown",
   "id": "0aaec5a8",
   "metadata": {},
   "source": [
    "# Ratings"
   ]
  },
  {
   "cell_type": "code",
   "execution_count": 9,
   "id": "bf24b558",
   "metadata": {},
   "outputs": [
    {
     "data": {
      "text/plain": [
       "'9.3'"
      ]
     },
     "execution_count": 9,
     "metadata": {},
     "output_type": "execute_result"
    }
   ],
   "source": [
    "rating = movie_data[0].find('span',class_ = 'rating-rating').find('span',class_ = 'value').text\n",
    "rating"
   ]
  },
  {
   "cell_type": "markdown",
   "id": "32de4b6e",
   "metadata": {},
   "source": [
    "# Meta Score"
   ]
  },
  {
   "cell_type": "code",
   "execution_count": 10,
   "id": "50cca204",
   "metadata": {},
   "outputs": [
    {
     "data": {
      "text/plain": [
       "'82'"
      ]
     },
     "execution_count": 10,
     "metadata": {},
     "output_type": "execute_result"
    }
   ],
   "source": [
    "meta_score = movie_data[0].find('span',class_ = 'metascore favorable').text\n",
    "meta_score = sub(\"[^0-9]\",\"\",meta_score)\n",
    "meta_score"
   ]
  },
  {
   "cell_type": "markdown",
   "id": "63c6a708",
   "metadata": {},
   "source": [
    "# Overview"
   ]
  },
  {
   "cell_type": "code",
   "execution_count": 11,
   "id": "b4f9adbf",
   "metadata": {},
   "outputs": [
    {
     "data": {
      "text/plain": [
       "'Over the course of several years two convicts form a friendship seeking consolation and eventually redemption through basic compassion'"
      ]
     },
     "execution_count": 11,
     "metadata": {},
     "output_type": "execute_result"
    }
   ],
   "source": [
    "overview = movie_data[0].find_all('p',class_ = 'text-muted')[1].text\n",
    "overview = sub(\"[^a-zA-Z0-9 ]\",\"\",overview)\n",
    "overview"
   ]
  },
  {
   "cell_type": "markdown",
   "id": "75924de4",
   "metadata": {},
   "source": [
    "# Director"
   ]
  },
  {
   "cell_type": "code",
   "execution_count": 12,
   "id": "b4babed3",
   "metadata": {},
   "outputs": [
    {
     "data": {
      "text/plain": [
       "'Frank Darabont'"
      ]
     },
     "execution_count": 12,
     "metadata": {},
     "output_type": "execute_result"
    }
   ],
   "source": [
    "director = movie_data[0].find('p',class_ = '').a.text\n",
    "director"
   ]
  },
  {
   "cell_type": "markdown",
   "id": "b1a11acf",
   "metadata": {},
   "source": [
    "# Cast"
   ]
  },
  {
   "cell_type": "code",
   "execution_count": 13,
   "id": "0b4a3214",
   "metadata": {},
   "outputs": [
    {
     "data": {
      "text/plain": [
       "['Tim Robbins', 'Morgan Freeman', 'Bob Gunton', 'William Sadler']"
      ]
     },
     "execution_count": 13,
     "metadata": {},
     "output_type": "execute_result"
    }
   ],
   "source": [
    "entity = movie_data[0].find_all('p',class_ = '')[0].find_all('a')\n",
    "cast = []\n",
    "for i,j in enumerate(entity):\n",
    "    cast.append(entity[i].text)\n",
    "cast.pop(0)\n",
    "cast"
   ]
  },
  {
   "cell_type": "markdown",
   "id": "5a7dd110",
   "metadata": {},
   "source": [
    "# Votes"
   ]
  },
  {
   "cell_type": "code",
   "execution_count": 14,
   "id": "284c57ee",
   "metadata": {},
   "outputs": [
    {
     "data": {
      "text/plain": [
       "'1,931,944'"
      ]
     },
     "execution_count": 14,
     "metadata": {},
     "output_type": "execute_result"
    }
   ],
   "source": [
    "votes = movie_data[1].find('p',class_ = 'sort-num_votes-visible').find_all('span')[1].text\n",
    "votes"
   ]
  },
  {
   "cell_type": "markdown",
   "id": "206ea6e4",
   "metadata": {},
   "source": [
    "# Gross"
   ]
  },
  {
   "cell_type": "code",
   "execution_count": 15,
   "id": "f11febae",
   "metadata": {},
   "outputs": [
    {
     "data": {
      "text/plain": [
       "'107,928,762'"
      ]
     },
     "execution_count": 15,
     "metadata": {},
     "output_type": "execute_result"
    }
   ],
   "source": [
    "Gross = movie_data[8].find('p',class_ = 'sort-num_votes-visible').find_all('span',attrs={'data-value': True})[1]['data-value']\n",
    "Gross"
   ]
  },
  {
   "cell_type": "code",
   "execution_count": 40,
   "id": "fc61881a",
   "metadata": {},
   "outputs": [],
   "source": [
    "def fetch_cast(i):\n",
    "    entity = movie_data[i].find_all('p',class_ = '')[0].find_all('a')\n",
    "    cast = []\n",
    "    for i,j in enumerate(entity):\n",
    "        cast.append(entity[i].text)\n",
    "    cast.pop(0)\n",
    "    return cast"
   ]
  },
  {
   "cell_type": "code",
   "execution_count": 67,
   "id": "641bdee5",
   "metadata": {},
   "outputs": [],
   "source": [
    "movie_data = soup.find_all(\"div\",attrs={'class' : 'lister-item mode-advanced'})\n",
    "movie_title = []\n",
    "release_year = []\n",
    "runtime = []\n",
    "genre = []\n",
    "imdb_rating = []\n",
    "overview = []\n",
    "director = []\n",
    "cast = []\n",
    "votes = []\n",
    "Gross = []\n",
    "meta_score = []\n",
    "for i in range(100):\n",
    "    movie_title.append(movie_data[i].h3.a.text)\n",
    "    year = movie_data[i].h3.find('span',class_ = 'lister-item-year text-muted unbold').text\n",
    "    release_year.append(sub(\"[^0-9]\",\"\",year))\n",
    "    time = movie_data[i].p.find('span',class_ = 'runtime').text\n",
    "    runtime.append(sub(\"[^0-9]\",\"\",time))\n",
    "    gen = movie_data[i].p.find('span',class_ = 'genre').text\n",
    "    genre.append(sub('[^A-Za-z0-9 ]',\"\",gen).strip())\n",
    "    imdb_rating.append(movie_data[i].find('span',class_ = 'rating-rating').find('span',class_ = 'value').text)\n",
    "    info = movie_data[i].find_all('p',class_ = 'text-muted')[1].text\n",
    "    overview.append(sub(\"[^a-zA-Z0-9 ]\",\"\",info))\n",
    "    director.append(movie_data[i].find('p',class_ = '').a.text)\n",
    "    cast.append(fetch_cast(i))\n",
    "    votes.append(movie_data[i].find('p',class_ = 'sort-num_votes-visible').find_all('span')[1].text)\n",
    "    Gross.append(movie_data[8].find('p',class_ = 'sort-num_votes-visible').find_all('span',attrs={'data-value': True})[1]['data-value'])\n",
    "    try:\n",
    "        m_score = movie_data[i].find('span',class_ = 'metascore favorable').text\n",
    "        meta_score.append(sub(\"[^0-9]\",\"\",m_score))\n",
    "    except:\n",
    "        meta_score.append(np.nan)"
   ]
  },
  {
   "cell_type": "code",
   "execution_count": 74,
   "id": "528df3d2",
   "metadata": {},
   "outputs": [],
   "source": [
    "cols = ['movie_title','genre','overview','director','cast','runtime','imdb_rating','meta_score','votes','Gross','release_year']"
   ]
  },
  {
   "cell_type": "code",
   "execution_count": 75,
   "id": "5725aa67",
   "metadata": {},
   "outputs": [],
   "source": [
    "df = pd.DataFrame(list(zip(movie_title,genre,overview,director,cast,runtime,imdb_rating,meta_score,votes,Gross,release_year)),columns=cols)"
   ]
  },
  {
   "cell_type": "code",
   "execution_count": 76,
   "id": "1472e474",
   "metadata": {},
   "outputs": [
    {
     "data": {
      "text/html": [
       "<div>\n",
       "<style scoped>\n",
       "    .dataframe tbody tr th:only-of-type {\n",
       "        vertical-align: middle;\n",
       "    }\n",
       "\n",
       "    .dataframe tbody tr th {\n",
       "        vertical-align: top;\n",
       "    }\n",
       "\n",
       "    .dataframe thead th {\n",
       "        text-align: right;\n",
       "    }\n",
       "</style>\n",
       "<table border=\"1\" class=\"dataframe\">\n",
       "  <thead>\n",
       "    <tr style=\"text-align: right;\">\n",
       "      <th></th>\n",
       "      <th>movie_title</th>\n",
       "      <th>genre</th>\n",
       "      <th>overview</th>\n",
       "      <th>director</th>\n",
       "      <th>cast</th>\n",
       "      <th>runtime</th>\n",
       "      <th>imdb_rating</th>\n",
       "      <th>meta_score</th>\n",
       "      <th>votes</th>\n",
       "      <th>Gross</th>\n",
       "      <th>release_year</th>\n",
       "    </tr>\n",
       "  </thead>\n",
       "  <tbody>\n",
       "    <tr>\n",
       "      <th>0</th>\n",
       "      <td>The Shawshank Redemption</td>\n",
       "      <td>Drama</td>\n",
       "      <td>Over the course of several years two convicts ...</td>\n",
       "      <td>Frank Darabont</td>\n",
       "      <td>[Tim Robbins, Morgan Freeman, Bob Gunton, Will...</td>\n",
       "      <td>142</td>\n",
       "      <td>9.3</td>\n",
       "      <td>82</td>\n",
       "      <td>2,775,236</td>\n",
       "      <td>107,928,762</td>\n",
       "      <td>1994</td>\n",
       "    </tr>\n",
       "    <tr>\n",
       "      <th>1</th>\n",
       "      <td>The Godfather</td>\n",
       "      <td>Crime Drama</td>\n",
       "      <td>Don Vito Corleone head of a mafia family decid...</td>\n",
       "      <td>Francis Ford Coppola</td>\n",
       "      <td>[Marlon Brando, Al Pacino, James Caan, Diane K...</td>\n",
       "      <td>175</td>\n",
       "      <td>9.2</td>\n",
       "      <td>100</td>\n",
       "      <td>1,931,944</td>\n",
       "      <td>107,928,762</td>\n",
       "      <td>1972</td>\n",
       "    </tr>\n",
       "    <tr>\n",
       "      <th>2</th>\n",
       "      <td>The Dark Knight</td>\n",
       "      <td>Action Crime Drama</td>\n",
       "      <td>When the menace known as the Joker wreaks havo...</td>\n",
       "      <td>Christopher Nolan</td>\n",
       "      <td>[Christian Bale, Heath Ledger, Aaron Eckhart, ...</td>\n",
       "      <td>152</td>\n",
       "      <td>9</td>\n",
       "      <td>84</td>\n",
       "      <td>2,751,318</td>\n",
       "      <td>107,928,762</td>\n",
       "      <td>2008</td>\n",
       "    </tr>\n",
       "    <tr>\n",
       "      <th>3</th>\n",
       "      <td>Schindler's List</td>\n",
       "      <td>Biography Drama History</td>\n",
       "      <td>In Germanoccupied Poland during World War II i...</td>\n",
       "      <td>Steven Spielberg</td>\n",
       "      <td>[Liam Neeson, Ralph Fiennes, Ben Kingsley, Car...</td>\n",
       "      <td>195</td>\n",
       "      <td>9</td>\n",
       "      <td>95</td>\n",
       "      <td>1,396,995</td>\n",
       "      <td>107,928,762</td>\n",
       "      <td>1993</td>\n",
       "    </tr>\n",
       "    <tr>\n",
       "      <th>4</th>\n",
       "      <td>12 Angry Men</td>\n",
       "      <td>Crime Drama</td>\n",
       "      <td>The jury in a New York City murder trial is fr...</td>\n",
       "      <td>Sidney Lumet</td>\n",
       "      <td>[Henry Fonda, Lee J. Cobb, Martin Balsam, John...</td>\n",
       "      <td>96</td>\n",
       "      <td>9</td>\n",
       "      <td>97</td>\n",
       "      <td>823,379</td>\n",
       "      <td>107,928,762</td>\n",
       "      <td>1957</td>\n",
       "    </tr>\n",
       "  </tbody>\n",
       "</table>\n",
       "</div>"
      ],
      "text/plain": [
       "                movie_title                    genre  \\\n",
       "0  The Shawshank Redemption                    Drama   \n",
       "1             The Godfather              Crime Drama   \n",
       "2           The Dark Knight       Action Crime Drama   \n",
       "3          Schindler's List  Biography Drama History   \n",
       "4              12 Angry Men              Crime Drama   \n",
       "\n",
       "                                            overview              director  \\\n",
       "0  Over the course of several years two convicts ...        Frank Darabont   \n",
       "1  Don Vito Corleone head of a mafia family decid...  Francis Ford Coppola   \n",
       "2  When the menace known as the Joker wreaks havo...     Christopher Nolan   \n",
       "3  In Germanoccupied Poland during World War II i...      Steven Spielberg   \n",
       "4  The jury in a New York City murder trial is fr...          Sidney Lumet   \n",
       "\n",
       "                                                cast runtime imdb_rating  \\\n",
       "0  [Tim Robbins, Morgan Freeman, Bob Gunton, Will...     142         9.3   \n",
       "1  [Marlon Brando, Al Pacino, James Caan, Diane K...     175         9.2   \n",
       "2  [Christian Bale, Heath Ledger, Aaron Eckhart, ...     152           9   \n",
       "3  [Liam Neeson, Ralph Fiennes, Ben Kingsley, Car...     195           9   \n",
       "4  [Henry Fonda, Lee J. Cobb, Martin Balsam, John...      96           9   \n",
       "\n",
       "  meta_score      votes        Gross release_year  \n",
       "0         82  2,775,236  107,928,762         1994  \n",
       "1        100  1,931,944  107,928,762         1972  \n",
       "2         84  2,751,318  107,928,762         2008  \n",
       "3         95  1,396,995  107,928,762         1993  \n",
       "4         97    823,379  107,928,762         1957  "
      ]
     },
     "execution_count": 76,
     "metadata": {},
     "output_type": "execute_result"
    }
   ],
   "source": [
    "df.head()"
   ]
  },
  {
   "cell_type": "code",
   "execution_count": 77,
   "id": "f868fb49",
   "metadata": {},
   "outputs": [
    {
     "data": {
      "text/plain": [
       "(100, 11)"
      ]
     },
     "execution_count": 77,
     "metadata": {},
     "output_type": "execute_result"
    }
   ],
   "source": [
    "df.shape"
   ]
  },
  {
   "cell_type": "code",
   "execution_count": 78,
   "id": "4dfc81cd",
   "metadata": {},
   "outputs": [
    {
     "data": {
      "text/plain": [
       "movie_title      0\n",
       "genre            0\n",
       "overview         0\n",
       "director         0\n",
       "cast             0\n",
       "runtime          0\n",
       "imdb_rating      0\n",
       "meta_score      15\n",
       "votes            0\n",
       "Gross            0\n",
       "release_year     0\n",
       "dtype: int64"
      ]
     },
     "execution_count": 78,
     "metadata": {},
     "output_type": "execute_result"
    }
   ],
   "source": [
    "df.isnull().sum()"
   ]
  },
  {
   "cell_type": "code",
   "execution_count": null,
   "id": "88c53543",
   "metadata": {},
   "outputs": [],
   "source": [
    "movie_data = soup.find_all(\"div\",attrs={'class' : 'lister-item mode-advanced'})\n",
    "movie_title = []\n",
    "release_year = []\n",
    "runtime = []\n",
    "genre = []\n",
    "imdb_rating = []\n",
    "overview = []\n",
    "director = []\n",
    "cast = []\n",
    "votes = []\n",
    "Gross = []\n",
    "meta_score = []\n",
    "for i in range(100):\n",
    "    movie_title.append(movie_data[i].h3.a.text)\n",
    "    year = movie_data[i].h3.find('span',class_ = 'lister-item-year text-muted unbold').text\n",
    "    release_year.append(sub(\"[^0-9]\",\"\",year))\n",
    "    time = movie_data[i].p.find('span',class_ = 'runtime').text\n",
    "    runtime.append(sub(\"[^0-9]\",\"\",time))\n",
    "    gen = movie_data[i].p.find('span',class_ = 'genre').text\n",
    "    genre.append(sub('[^A-Za-z0-9 ]',\"\",gen).strip())\n",
    "    imdb_rating.append(movie_data[i].find('span',class_ = 'rating-rating').find('span',class_ = 'value').text)\n",
    "    info = movie_data[i].find_all('p',class_ = 'text-muted')[1].text\n",
    "    overview.append(sub(\"[^a-zA-Z0-9 ]\",\"\",info))\n",
    "    director.append(movie_data[i].find('p',class_ = '').a.text)\n",
    "    cast.append(fetch_cast(i))\n",
    "    votes.append(movie_data[i].find('p',class_ = 'sort-num_votes-visible').find_all('span')[1].text)\n",
    "    Gross.append(movie_data[8].find('p',class_ = 'sort-num_votes-visible').find_all('span',attrs={'data-value': True})[1]['data-value'])\n",
    "    try:\n",
    "        m_score = movie_data[i].find('span',class_ = 'metascore favorable').text\n",
    "        meta_score.append(sub(\"[^0-9]\",\"\",m_score))\n",
    "    except:\n",
    "        meta_score.append(np.nan)"
   ]
  },
  {
   "cell_type": "code",
   "execution_count": 107,
   "id": "f67d591b",
   "metadata": {},
   "outputs": [],
   "source": [
    "movie_title = []\n",
    "release_year = []\n",
    "runtime = []\n",
    "genre = []\n",
    "imdb_rating = []\n",
    "overview = []\n",
    "director = []\n",
    "cast = []\n",
    "votes = []\n",
    "Gross = []\n",
    "meta_score = []\n",
    "for i in range(1,902,100):\n",
    "    url = \"https://www.imdb.com/search/title/?groups=top_1000&sort=user_rating,desc&count=100&start={}&ref_=adv_nxt\".format(i)\n",
    "    response = requests.get(url)\n",
    "    soup = BeautifulSoup(response.content,\"html.parser\")\n",
    "    movie_data = soup.find_all(\"div\",attrs={'class' : 'lister-item mode-advanced'})\n",
    "    for i in range(100):\n",
    "        movie_title.append(movie_data[i].h3.a.text)\n",
    "        year = movie_data[i].h3.find('span',class_ = 'lister-item-year text-muted unbold').text\n",
    "        release_year.append(sub(\"[^0-9]\",\"\",year))\n",
    "        time = movie_data[i].p.find('span',class_ = 'runtime').text\n",
    "        runtime.append(sub(\"[^0-9]\",\"\",time))\n",
    "        gen = movie_data[i].p.find('span',class_ = 'genre').text\n",
    "        genre.append(sub('[^A-Za-z0-9 ]',\"\",gen).strip())\n",
    "        imdb_rating.append(movie_data[i].find('span',class_ = 'rating-rating').find('span',class_ = 'value').text)\n",
    "        info = movie_data[i].find_all('p',class_ = 'text-muted')[1].text\n",
    "        overview.append(sub(\"[^a-zA-Z0-9 ]\",\"\",info))\n",
    "        director.append(movie_data[i].find('p',class_ = '').a.text)\n",
    "        cast.append(fetch_cast(i))\n",
    "        votes.append(movie_data[i].find('p',class_ = 'sort-num_votes-visible').find_all('span')[1].text)\n",
    "        try:\n",
    "            Gross.append(movie_data[i].find('p',class_ = 'sort-num_votes-visible').find_all('span',attrs={'data-value': True})[1]['data-value'])\n",
    "        except:\n",
    "            Gross.append(np.nan)\n",
    "        try:\n",
    "            m_score = movie_data[i].find('span',class_ = 'metascore favorable').text\n",
    "            meta_score.append(sub(\"[^0-9]\",\"\",m_score))\n",
    "        except:\n",
    "            meta_score.append(np.nan)"
   ]
  },
  {
   "cell_type": "code",
   "execution_count": 108,
   "id": "24b2d91f",
   "metadata": {},
   "outputs": [],
   "source": [
    "cols = ['movie_title','genre','overview','director','cast','runtime','imdb_rating','meta_score','votes','Gross','release_year']"
   ]
  },
  {
   "cell_type": "code",
   "execution_count": 109,
   "id": "a729ed16",
   "metadata": {},
   "outputs": [],
   "source": [
    "final_df = pd.DataFrame(list(zip(movie_title,genre,overview,director,cast,runtime,imdb_rating,meta_score,votes,Gross,release_year)),columns=cols)"
   ]
  },
  {
   "cell_type": "code",
   "execution_count": 110,
   "id": "ec2d886d",
   "metadata": {},
   "outputs": [
    {
     "data": {
      "text/html": [
       "<div>\n",
       "<style scoped>\n",
       "    .dataframe tbody tr th:only-of-type {\n",
       "        vertical-align: middle;\n",
       "    }\n",
       "\n",
       "    .dataframe tbody tr th {\n",
       "        vertical-align: top;\n",
       "    }\n",
       "\n",
       "    .dataframe thead th {\n",
       "        text-align: right;\n",
       "    }\n",
       "</style>\n",
       "<table border=\"1\" class=\"dataframe\">\n",
       "  <thead>\n",
       "    <tr style=\"text-align: right;\">\n",
       "      <th></th>\n",
       "      <th>movie_title</th>\n",
       "      <th>genre</th>\n",
       "      <th>overview</th>\n",
       "      <th>director</th>\n",
       "      <th>cast</th>\n",
       "      <th>runtime</th>\n",
       "      <th>imdb_rating</th>\n",
       "      <th>meta_score</th>\n",
       "      <th>votes</th>\n",
       "      <th>Gross</th>\n",
       "      <th>release_year</th>\n",
       "    </tr>\n",
       "  </thead>\n",
       "  <tbody>\n",
       "    <tr>\n",
       "      <th>0</th>\n",
       "      <td>The Shawshank Redemption</td>\n",
       "      <td>Drama</td>\n",
       "      <td>Over the course of several years two convicts ...</td>\n",
       "      <td>Frank Darabont</td>\n",
       "      <td>[Tim Robbins, Morgan Freeman, Bob Gunton, Will...</td>\n",
       "      <td>142</td>\n",
       "      <td>9.3</td>\n",
       "      <td>82</td>\n",
       "      <td>2,775,236</td>\n",
       "      <td>28,341,469</td>\n",
       "      <td>1994</td>\n",
       "    </tr>\n",
       "    <tr>\n",
       "      <th>1</th>\n",
       "      <td>The Godfather</td>\n",
       "      <td>Crime Drama</td>\n",
       "      <td>Don Vito Corleone head of a mafia family decid...</td>\n",
       "      <td>Francis Ford Coppola</td>\n",
       "      <td>[Marlon Brando, Al Pacino, James Caan, Diane K...</td>\n",
       "      <td>175</td>\n",
       "      <td>9.2</td>\n",
       "      <td>100</td>\n",
       "      <td>1,931,944</td>\n",
       "      <td>134,966,411</td>\n",
       "      <td>1972</td>\n",
       "    </tr>\n",
       "    <tr>\n",
       "      <th>2</th>\n",
       "      <td>The Dark Knight</td>\n",
       "      <td>Action Crime Drama</td>\n",
       "      <td>When the menace known as the Joker wreaks havo...</td>\n",
       "      <td>Christopher Nolan</td>\n",
       "      <td>[Christian Bale, Heath Ledger, Aaron Eckhart, ...</td>\n",
       "      <td>152</td>\n",
       "      <td>9</td>\n",
       "      <td>84</td>\n",
       "      <td>2,751,318</td>\n",
       "      <td>534,858,444</td>\n",
       "      <td>2008</td>\n",
       "    </tr>\n",
       "    <tr>\n",
       "      <th>3</th>\n",
       "      <td>Schindler's List</td>\n",
       "      <td>Biography Drama History</td>\n",
       "      <td>In Germanoccupied Poland during World War II i...</td>\n",
       "      <td>Steven Spielberg</td>\n",
       "      <td>[Liam Neeson, Ralph Fiennes, Ben Kingsley, Car...</td>\n",
       "      <td>195</td>\n",
       "      <td>9</td>\n",
       "      <td>95</td>\n",
       "      <td>1,396,995</td>\n",
       "      <td>96,898,818</td>\n",
       "      <td>1993</td>\n",
       "    </tr>\n",
       "    <tr>\n",
       "      <th>4</th>\n",
       "      <td>12 Angry Men</td>\n",
       "      <td>Crime Drama</td>\n",
       "      <td>The jury in a New York City murder trial is fr...</td>\n",
       "      <td>Sidney Lumet</td>\n",
       "      <td>[Henry Fonda, Lee J. Cobb, Martin Balsam, John...</td>\n",
       "      <td>96</td>\n",
       "      <td>9</td>\n",
       "      <td>97</td>\n",
       "      <td>823,379</td>\n",
       "      <td>4,360,000</td>\n",
       "      <td>1957</td>\n",
       "    </tr>\n",
       "  </tbody>\n",
       "</table>\n",
       "</div>"
      ],
      "text/plain": [
       "                movie_title                    genre  \\\n",
       "0  The Shawshank Redemption                    Drama   \n",
       "1             The Godfather              Crime Drama   \n",
       "2           The Dark Knight       Action Crime Drama   \n",
       "3          Schindler's List  Biography Drama History   \n",
       "4              12 Angry Men              Crime Drama   \n",
       "\n",
       "                                            overview              director  \\\n",
       "0  Over the course of several years two convicts ...        Frank Darabont   \n",
       "1  Don Vito Corleone head of a mafia family decid...  Francis Ford Coppola   \n",
       "2  When the menace known as the Joker wreaks havo...     Christopher Nolan   \n",
       "3  In Germanoccupied Poland during World War II i...      Steven Spielberg   \n",
       "4  The jury in a New York City murder trial is fr...          Sidney Lumet   \n",
       "\n",
       "                                                cast runtime imdb_rating  \\\n",
       "0  [Tim Robbins, Morgan Freeman, Bob Gunton, Will...     142         9.3   \n",
       "1  [Marlon Brando, Al Pacino, James Caan, Diane K...     175         9.2   \n",
       "2  [Christian Bale, Heath Ledger, Aaron Eckhart, ...     152           9   \n",
       "3  [Liam Neeson, Ralph Fiennes, Ben Kingsley, Car...     195           9   \n",
       "4  [Henry Fonda, Lee J. Cobb, Martin Balsam, John...      96           9   \n",
       "\n",
       "  meta_score      votes        Gross release_year  \n",
       "0         82  2,775,236   28,341,469         1994  \n",
       "1        100  1,931,944  134,966,411         1972  \n",
       "2         84  2,751,318  534,858,444         2008  \n",
       "3         95  1,396,995   96,898,818         1993  \n",
       "4         97    823,379    4,360,000         1957  "
      ]
     },
     "execution_count": 110,
     "metadata": {},
     "output_type": "execute_result"
    }
   ],
   "source": [
    "final_df.head()"
   ]
  },
  {
   "cell_type": "code",
   "execution_count": 112,
   "id": "61ce837a",
   "metadata": {},
   "outputs": [],
   "source": [
    "final_df.to_csv(\"F:/ETL/Dataset/IMDB_1000.csv\")"
   ]
  },
  {
   "cell_type": "code",
   "execution_count": 113,
   "id": "c929197e",
   "metadata": {},
   "outputs": [
    {
     "data": {
      "text/plain": [
       "1000"
      ]
     },
     "execution_count": 113,
     "metadata": {},
     "output_type": "execute_result"
    }
   ],
   "source": [
    "len(movie_title)"
   ]
  },
  {
   "cell_type": "code",
   "execution_count": null,
   "id": "b0bea229",
   "metadata": {},
   "outputs": [],
   "source": []
  }
 ],
 "metadata": {
  "kernelspec": {
   "display_name": "Python 3 (ipykernel)",
   "language": "python",
   "name": "python3"
  },
  "language_info": {
   "codemirror_mode": {
    "name": "ipython",
    "version": 3
   },
   "file_extension": ".py",
   "mimetype": "text/x-python",
   "name": "python",
   "nbconvert_exporter": "python",
   "pygments_lexer": "ipython3",
   "version": "3.10.9"
  }
 },
 "nbformat": 4,
 "nbformat_minor": 5
}
